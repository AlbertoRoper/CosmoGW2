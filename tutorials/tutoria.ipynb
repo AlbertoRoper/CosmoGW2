{
 "cells": [
  {
   "cell_type": "code",
   "execution_count": null,
   "id": "bd48001d",
   "metadata": {},
   "outputs": [],
   "source": [
    "tst = 3."
   ]
  }
 ],
 "metadata": {
  "language_info": {
   "name": "python"
  }
 },
 "nbformat": 4,
 "nbformat_minor": 5
}
